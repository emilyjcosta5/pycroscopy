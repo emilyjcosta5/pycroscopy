{
 "cells": [
  {
   "cell_type": "markdown",
   "metadata": {},
   "source": [
    "Import all necessary packages:"
   ]
  },
  {
   "cell_type": "code",
   "execution_count": null,
   "metadata": {},
   "outputs": [],
   "source": [
    "from bayesian_inference import AdaptiveBayesianInference\n",
    "import numpy as np\n",
    "import matplotlib.pyplot as plt\n",
    "import h5py\n",
    "from shutil import copyfile\n",
    "import tempfile\n",
    "import pyUSID as usid\n",
    "#from bayesian_utils import ...[visualization functions]"
   ]
  },
  {
   "cell_type": "markdown",
   "metadata": {},
   "source": [
    "Find main dataset and make a temporary copy:"
   ]
  },
  {
   "cell_type": "code",
   "execution_count": null,
   "metadata": {},
   "outputs": [],
   "source": [
    "orig_path = \"pzt_nanocap_6_split_bayesian_compensation_R_correction.h5\"\n",
    "\n",
    "with tempfile.TemporaryDirectory() as tmp_dir:\n",
    "    h5_path = tmp_dir + 'bayinf.h5'\n",
    "    copyfile(orig_path, h5_path)"
   ]
  },
  {
   "cell_type": "markdown",
   "metadata": {},
   "source": [
    "Open the temporary file:"
   ]
  },
  {
   "cell_type": "code",
   "execution_count": null,
   "metadata": {},
   "outputs": [],
   "source": [
    "h5_f = h5py.File(h5_path, mode='r+')\n",
    "h5_grp = h5_f['Measurement_000/Channel_000']\n",
    "h5_main = usid.USIDataset(h5Group[\"Raw_Data\"])\n"
   ]
  },
  {
   "cell_type": "markdown",
   "metadata": {},
   "source": [
    "Initiate the Bayesian Inference object,\n",
    "Start the science:"
   ]
  },
  {
   "cell_type": "code",
   "execution_count": null,
   "metadata": {},
   "outputs": [],
   "source": [
    "# Add other parameters as needed\n",
    "USIDMain(h5_resh, 32444)\n",
    "simpleMain()\n",
    "abi = AdaptiveBayesianInference(h5_main)"
   ]
  },
  {
   "cell_type": "markdown",
   "metadata": {},
   "source": [
    "Run and visualize test:"
   ]
  },
  {
   "cell_type": "code",
   "execution_count": null,
   "metadata": {},
   "outputs": [],
   "source": [
    "test_res = abi.test()\n",
    "test_res"
   ]
  },
  {
   "cell_type": "markdown",
   "metadata": {},
   "source": [
    "Call the compute function:"
   ]
  },
  {
   "cell_type": "code",
   "execution_count": null,
   "metadata": {},
   "outputs": [],
   "source": [
    "results = abi.compute()"
   ]
  },
  {
   "cell_type": "markdown",
   "metadata": {},
   "source": [
    "Prepare to visualize process data:"
   ]
  },
  {
   "cell_type": "code",
   "execution_count": null,
   "metadata": {},
   "outputs": [],
   "source": [
    "#not sure if you need these here or not\n",
    "h5_filt_grp = usid.hdf_utils.find_results_groups(h5Main, \"FFT_Filtering\")[-1]\n",
    "h5_filt = h5_filt_grp[\"Filtered_Data\"]\n",
    "h5_resh_grp = usid.hdf_utils.find_results_groups(h5_filt, \"Reshape\")[-1]\n",
    "h5_resh = usid.USIDataset(h5_resh_grp[\"Reshaped_Data\"])"
   ]
  },
  {
   "cell_type": "markdown",
   "metadata": {},
   "source": [
    "Visualize the processed data:"
   ]
  },
  {
   "cell_type": "code",
   "execution_count": null,
   "metadata": {},
   "outputs": [],
   "source": [
    "bayesian_utils.simple_graphs(verbose=True)"
   ]
  }
 ],
 "metadata": {
  "kernelspec": {
   "display_name": "Python 3",
   "language": "python",
   "name": "python3"
  },
  "language_info": {
   "codemirror_mode": {
    "name": "ipython",
    "version": 3
   },
   "file_extension": ".py",
   "mimetype": "text/x-python",
   "name": "python",
   "nbconvert_exporter": "python",
   "pygments_lexer": "ipython3",
   "version": "3.6.8"
  }
 },
 "nbformat": 4,
 "nbformat_minor": 2
}
